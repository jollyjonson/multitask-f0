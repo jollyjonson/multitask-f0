{
 "cells": [
  {
   "cell_type": "code",
   "execution_count": 1,
   "metadata": {
    "collapsed": false
   },
   "outputs": [
    {
     "name": "stdout",
     "output_type": "stream",
     "text": [
      "/scratch/rmb456/multif0/deepsalience\n"
     ]
    }
   ],
   "source": [
    "cd ../deepsalience/"
   ]
  },
  {
   "cell_type": "code",
   "execution_count": 2,
   "metadata": {
    "collapsed": false
   },
   "outputs": [
    {
     "name": "stderr",
     "output_type": "stream",
     "text": [
      "Using TensorFlow backend.\n"
     ]
    }
   ],
   "source": [
    "\n",
    "import multitask_experiment\n",
    "import keras\n",
    "from keras.models import Model\n",
    "from keras.layers import Dense, Input, Reshape, Lambda, Permute\n",
    "from keras.layers.merge import Concatenate, Multiply\n",
    "from keras.layers.convolutional import Conv2D\n",
    "from keras.layers.wrappers import TimeDistributed\n",
    "from keras.layers.normalization import BatchNormalization\n",
    "from keras import backend as K\n"
   ]
  },
  {
   "cell_type": "code",
   "execution_count": null,
   "metadata": {
    "collapsed": true
   },
   "outputs": [],
   "source": []
  },
  {
   "cell_type": "code",
   "execution_count": 3,
   "metadata": {
    "collapsed": true
   },
   "outputs": [],
   "source": [
    "def get_model():\n",
    "    input_shape = (None, None, 5)\n",
    "    y0 = Input(shape=input_shape, name='input')\n",
    "    y_freq = Input(shape=(None, None, 1), name='freq_map')\n",
    "\n",
    "    y1_pitch = Conv2D(\n",
    "        32, (5, 5), padding='same', activation='relu', name='pitch_layer1')(y0)\n",
    "    y1a_pitch = BatchNormalization()(y1_pitch)\n",
    "    y2_pitch = Conv2D(\n",
    "        32, (5, 5), padding='same', activation='relu', name='pitch_layer2')(y1a_pitch)\n",
    "    y2a_pitch = BatchNormalization()(y2_pitch)\n",
    "    y3_pitch = Conv2D(32, (3, 3), padding='same', activation='relu', name='smoothy2')(y2a_pitch)\n",
    "    y3a_pitch = BatchNormalization()(y3_pitch)\n",
    "    y4_pitch = Conv2D(8, (70, 3), padding='same', activation='relu', name='distribute')(y3a_pitch)\n",
    "    y4a_pitch = BatchNormalization()(y4_pitch)\n",
    "\n",
    "    y_multif0 = Conv2D(\n",
    "        1, (1, 1), padding='same', activation='sigmoid', name='multif0_presqueeze')(y4a_pitch)\n",
    "    multif0 = Lambda(lambda x: K.squeeze(x, axis=3), name='multif0')(y_multif0)\n",
    "\n",
    "    y_mask = Multiply(name='mask')([y_multif0, y0])\n",
    "    y1_timbre = Conv2D(\n",
    "        512, (2, 3), padding='same', activation='relu', name='timbre_layer1')(y_mask)\n",
    "    y1a_timbre = BatchNormalization()(y1_timbre)\n",
    "\n",
    "    y_concat = Concatenate(name='timbre_and_pitch')([y_multif0, y1a_timbre])\n",
    "    ya_concat = BatchNormalization()(y_concat)\n",
    "    y_concat_freq = Concatenate(name='freq_concat')([ya_concat, y_freq])\n",
    "\n",
    "    y_mel_feat = Conv2D(\n",
    "        32, (3, 3), padding='same', activation='relu', name='melody_filters')(y_concat_freq)\n",
    "    ya_mel_feat = BatchNormalization()(y_mel_feat)\n",
    "    y_mel_feat2 = Conv2D(\n",
    "        32, (3, 3), padding='same', activation='relu', name='melody_filters2')(ya_mel_feat)\n",
    "    ya_mel_feat2 = BatchNormalization()(y_mel_feat2)\n",
    "\n",
    "    y_mel_feat4 = Conv2D(\n",
    "        16, (7, 7), padding='same', activation='relu', name='melody_filters4')(ya_mel_feat2)\n",
    "    ya_mel_feat4 = BatchNormalization()(y_mel_feat4)\n",
    "    y_mel_feat5 = Conv2D(\n",
    "        16, (7, 7), padding='same', activation='relu', name='melody_filters5')(ya_mel_feat4)\n",
    "    ya_mel_feat5 = BatchNormalization()(y_mel_feat5)\n",
    "\n",
    "    y_bass_feat = Conv2D(\n",
    "        32, (3, 3), padding='same', activation='relu', name='bass_filters')(y_concat_freq)\n",
    "    ya_bass_feat = BatchNormalization()(y_bass_feat)\n",
    "    y_bass_feat2 = Conv2D(\n",
    "        32, (3, 3), padding='same', activation='relu', name='bass_filters2')(ya_bass_feat)\n",
    "    ya_bass_feat2 = BatchNormalization()(y_bass_feat2)\n",
    "\n",
    "    y_bass_feat4 = Conv2D(\n",
    "        16, (7, 7), padding='same', activation='relu', name='bass_filters4')(ya_bass_feat2)\n",
    "    ya_bass_feat4 = BatchNormalization()(y_bass_feat4)\n",
    "    y_bass_feat5 = Conv2D(\n",
    "        16, (7, 7), padding='same', activation='relu', name='bass_filters5')(ya_bass_feat4)\n",
    "    ya_bass_feat5 = BatchNormalization()(y_bass_feat5)\n",
    "\n",
    "    y_vocal_feat = Conv2D(\n",
    "        32, (3, 3), padding='same', activation='relu', name='vocal_filters')(y_concat_freq)\n",
    "    ya_vocal_feat = BatchNormalization()(y_vocal_feat)\n",
    "    y_vocal_feat2 = Conv2D(\n",
    "        32, (3, 3), padding='same', activation='relu', name='vocal_filters2')(ya_vocal_feat)\n",
    "    ya_vocal_feat2 = BatchNormalization()(y_vocal_feat2)\n",
    "\n",
    "    y_vocal_feat4 = Conv2D(\n",
    "        16, (7, 7), padding='same', activation='relu', name='vocal_filters4')(ya_vocal_feat2)\n",
    "    ya_vocal_feat4 = BatchNormalization()(y_vocal_feat4)\n",
    "    y_vocal_feat5 = Conv2D(\n",
    "        16, (7, 7), padding='same', activation='relu', name='vocal_filters5')(ya_vocal_feat4)\n",
    "    ya_vocal_feat5 = BatchNormalization()(y_vocal_feat5)\n",
    "\n",
    "    y_melody = Conv2D(\n",
    "        1, (1, 1), padding='same', activation='sigmoid', name='melody_presqueeze')(ya_mel_feat5)\n",
    "    melody = Lambda(lambda x: K.squeeze(x, axis=3), name='melody')(y_melody)\n",
    "\n",
    "    y_bass = Conv2D(\n",
    "        1, (1, 1), padding='same', activation='sigmoid', name='bass_presqueeze')(ya_bass_feat5)\n",
    "    bass = Lambda(lambda x: K.squeeze(x, axis=3), name='bass')(y_bass)\n",
    "\n",
    "    y_vocal = Conv2D(\n",
    "        1, (1, 1), padding='same', activation='sigmoid', name='vocal_presqueeze')(ya_vocal_feat5)\n",
    "    vocal = Lambda(lambda x: K.squeeze(x, axis=3), name='vocal')(y_vocal)\n",
    "\n",
    "    model = Model(inputs=[y0, y_freq], outputs=[multif0, melody, bass, vocal])\n",
    "\n",
    "#     model.summary(line_length=120)\n",
    "\n",
    "    return model\n"
   ]
  },
  {
   "cell_type": "code",
   "execution_count": 4,
   "metadata": {
    "collapsed": false,
    "scrolled": false
   },
   "outputs": [],
   "source": [
    "model = get_model()\n",
    "output_path = '../experiment_output/multitask_freq_feature'\n",
    "tasks = None\n",
    "data_types = None\n",
    "loss_weights = {'multif0': 2.0, 'melody': 1.0, 'bass': 1.0, 'vocal': 1.0}\n",
    "sample_weight_mode = {'multif0': None, 'melody': None, 'bass': None, 'vocal': None}\n",
    "task_indices = {'multif0': 0, 'melody': 1, 'bass': 2, 'vocal': 3}\n"
   ]
  },
  {
   "cell_type": "code",
   "execution_count": 5,
   "metadata": {
    "collapsed": false,
    "scrolled": false
   },
   "outputs": [
    {
     "name": "stdout",
     "output_type": "stream",
     "text": [
      "Epoch 1/200\n"
     ]
    },
    {
     "name": "stderr",
     "output_type": "stream",
     "text": [
      "Exception in thread Thread-4:\n",
      "Traceback (most recent call last):\n",
      "  File \"/home/rmb456/anaconda2/lib/python2.7/threading.py\", line 801, in __bootstrap_inner\n",
      "    self.run()\n",
      "  File \"/home/rmb456/anaconda2/lib/python2.7/threading.py\", line 754, in run\n",
      "    self.__target(*self.__args, **self.__kwargs)\n",
      "  File \"/home/rmb456/anaconda2/lib/python2.7/site-packages/keras/engine/training.py\", line 606, in data_generator_task\n",
      "    generator_output = next(self._generator)\n",
      "  File \"multitask_core.py\", line 279, in multitask_generator\n",
      "    for batch in batch_gen:\n",
      "  File \"multitask_core.py\", line 184, in multitask_batch_generator\n",
      "    if isinstance(samp[0], dict):\n",
      "UnboundLocalError: local variable 'samp' referenced before assignment\n",
      "\n"
     ]
    },
    {
     "ename": "ValueError",
     "evalue": "output of generator should be a tuple `(x, y, sample_weight)` or `(x, y)`. Found: None",
     "output_type": "error",
     "traceback": [
      "\u001b[0;31m\u001b[0m",
      "\u001b[0;31mValueError\u001b[0mTraceback (most recent call last)",
      "\u001b[0;32m<ipython-input-5-16d6259d5303>\u001b[0m in \u001b[0;36m<module>\u001b[0;34m()\u001b[0m\n\u001b[1;32m      3\u001b[0m     \u001b[0mtask_indices\u001b[0m\u001b[0;34m,\u001b[0m \u001b[0mdata_types\u001b[0m\u001b[0;34m=\u001b[0m\u001b[0mdata_types\u001b[0m\u001b[0;34m,\u001b[0m \u001b[0mtasks\u001b[0m\u001b[0;34m=\u001b[0m\u001b[0mtasks\u001b[0m\u001b[0;34m,\u001b[0m \u001b[0mmux_weights\u001b[0m\u001b[0;34m=\u001b[0m\u001b[0mNone\u001b[0m\u001b[0;34m,\u001b[0m\u001b[0;34m\u001b[0m\u001b[0m\n\u001b[1;32m      4\u001b[0m     \u001b[0msamples_per_epoch\u001b[0m\u001b[0;34m=\u001b[0m\u001b[0;36m50\u001b[0m\u001b[0;34m,\u001b[0m \u001b[0mnb_epochs\u001b[0m\u001b[0;34m=\u001b[0m\u001b[0;36m200\u001b[0m\u001b[0;34m,\u001b[0m \u001b[0mnb_val_samples\u001b[0m\u001b[0;34m=\u001b[0m\u001b[0;36m50\u001b[0m\u001b[0;34m,\u001b[0m\u001b[0;34m\u001b[0m\u001b[0m\n\u001b[0;32m----> 5\u001b[0;31m     \u001b[0mfreq_feature\u001b[0m\u001b[0;34m=\u001b[0m\u001b[0mTrue\u001b[0m\u001b[0;34m\u001b[0m\u001b[0m\n\u001b[0m\u001b[1;32m      6\u001b[0m )\n",
      "\u001b[0;32m/scratch/rmb456/multif0/deepsalience/multitask_experiment.pyc\u001b[0m in \u001b[0;36mmain\u001b[0;34m(model, output_path, loss_weights, sample_weight_mode, task_indices, data_types, tasks, mux_weights, samples_per_epoch, nb_epochs, nb_val_samples, freq_feature)\u001b[0m\n\u001b[1;32m     66\u001b[0m                     model_save_path, save_best_only=True, verbose=1),\n\u001b[1;32m     67\u001b[0m                 \u001b[0mkeras\u001b[0m\u001b[0;34m.\u001b[0m\u001b[0mcallbacks\u001b[0m\u001b[0;34m.\u001b[0m\u001b[0mReduceLROnPlateau\u001b[0m\u001b[0;34m(\u001b[0m\u001b[0mpatience\u001b[0m\u001b[0;34m=\u001b[0m\u001b[0;36m5\u001b[0m\u001b[0;34m,\u001b[0m \u001b[0mverbose\u001b[0m\u001b[0;34m=\u001b[0m\u001b[0;36m1\u001b[0m\u001b[0;34m)\u001b[0m\u001b[0;34m,\u001b[0m\u001b[0;34m\u001b[0m\u001b[0m\n\u001b[0;32m---> 68\u001b[0;31m                 \u001b[0mkeras\u001b[0m\u001b[0;34m.\u001b[0m\u001b[0mcallbacks\u001b[0m\u001b[0;34m.\u001b[0m\u001b[0mEarlyStopping\u001b[0m\u001b[0;34m(\u001b[0m\u001b[0mpatience\u001b[0m\u001b[0;34m=\u001b[0m\u001b[0;36m25\u001b[0m\u001b[0;34m,\u001b[0m \u001b[0mverbose\u001b[0m\u001b[0;34m=\u001b[0m\u001b[0;36m0\u001b[0m\u001b[0;34m)\u001b[0m\u001b[0;34m\u001b[0m\u001b[0m\n\u001b[0m\u001b[1;32m     69\u001b[0m             ]\n\u001b[1;32m     70\u001b[0m         )\n",
      "\u001b[0;32m/home/rmb456/anaconda2/lib/python2.7/site-packages/keras/legacy/interfaces.pyc\u001b[0m in \u001b[0;36mwrapper\u001b[0;34m(*args, **kwargs)\u001b[0m\n\u001b[1;32m     86\u001b[0m                 warnings.warn('Update your `' + object_name +\n\u001b[1;32m     87\u001b[0m                               '` call to the Keras 2 API: ' + signature, stacklevel=2)\n\u001b[0;32m---> 88\u001b[0;31m             \u001b[0;32mreturn\u001b[0m \u001b[0mfunc\u001b[0m\u001b[0;34m(\u001b[0m\u001b[0;34m*\u001b[0m\u001b[0margs\u001b[0m\u001b[0;34m,\u001b[0m \u001b[0;34m**\u001b[0m\u001b[0mkwargs\u001b[0m\u001b[0;34m)\u001b[0m\u001b[0;34m\u001b[0m\u001b[0m\n\u001b[0m\u001b[1;32m     89\u001b[0m         \u001b[0mwrapper\u001b[0m\u001b[0;34m.\u001b[0m\u001b[0m_legacy_support_signature\u001b[0m \u001b[0;34m=\u001b[0m \u001b[0minspect\u001b[0m\u001b[0;34m.\u001b[0m\u001b[0mgetargspec\u001b[0m\u001b[0;34m(\u001b[0m\u001b[0mfunc\u001b[0m\u001b[0;34m)\u001b[0m\u001b[0;34m\u001b[0m\u001b[0m\n\u001b[1;32m     90\u001b[0m         \u001b[0;32mreturn\u001b[0m \u001b[0mwrapper\u001b[0m\u001b[0;34m\u001b[0m\u001b[0m\n",
      "\u001b[0;32m/home/rmb456/anaconda2/lib/python2.7/site-packages/keras/engine/training.pyc\u001b[0m in \u001b[0;36mfit_generator\u001b[0;34m(self, generator, steps_per_epoch, epochs, verbose, callbacks, validation_data, validation_steps, class_weight, max_q_size, workers, pickle_safe, initial_epoch)\u001b[0m\n\u001b[1;32m   1850\u001b[0m                                          \u001b[0;34m'a tuple `(x, y, sample_weight)` '\u001b[0m\u001b[0;34m\u001b[0m\u001b[0m\n\u001b[1;32m   1851\u001b[0m                                          \u001b[0;34m'or `(x, y)`. Found: '\u001b[0m \u001b[0;34m+\u001b[0m\u001b[0;34m\u001b[0m\u001b[0m\n\u001b[0;32m-> 1852\u001b[0;31m                                          str(generator_output))\n\u001b[0m\u001b[1;32m   1853\u001b[0m                     \u001b[0;32mif\u001b[0m \u001b[0mlen\u001b[0m\u001b[0;34m(\u001b[0m\u001b[0mgenerator_output\u001b[0m\u001b[0;34m)\u001b[0m \u001b[0;34m==\u001b[0m \u001b[0;36m2\u001b[0m\u001b[0;34m:\u001b[0m\u001b[0;34m\u001b[0m\u001b[0m\n\u001b[1;32m   1854\u001b[0m                         \u001b[0mx\u001b[0m\u001b[0;34m,\u001b[0m \u001b[0my\u001b[0m \u001b[0;34m=\u001b[0m \u001b[0mgenerator_output\u001b[0m\u001b[0;34m\u001b[0m\u001b[0m\n",
      "\u001b[0;31mValueError\u001b[0m: output of generator should be a tuple `(x, y, sample_weight)` or `(x, y)`. Found: None"
     ]
    }
   ],
   "source": [
    "multitask_experiment.main(\n",
    "    model, output_path, loss_weights, sample_weight_mode,\n",
    "    task_indices, data_types=data_types, tasks=tasks, mux_weights=None,\n",
    "    samples_per_epoch=50, nb_epochs=200, nb_val_samples=50,\n",
    "    freq_feature=True\n",
    ")"
   ]
  },
  {
   "cell_type": "code",
   "execution_count": null,
   "metadata": {
    "collapsed": false
   },
   "outputs": [],
   "source": []
  },
  {
   "cell_type": "code",
   "execution_count": null,
   "metadata": {
    "collapsed": true
   },
   "outputs": [],
   "source": []
  }
 ],
 "metadata": {
  "kernelspec": {
   "display_name": "Python 2",
   "language": "python",
   "name": "python2"
  },
  "language_info": {
   "codemirror_mode": {
    "name": "ipython",
    "version": 2
   },
   "file_extension": ".py",
   "mimetype": "text/x-python",
   "name": "python",
   "nbconvert_exporter": "python",
   "pygments_lexer": "ipython2",
   "version": "2.7.13"
  }
 },
 "nbformat": 4,
 "nbformat_minor": 2
}
