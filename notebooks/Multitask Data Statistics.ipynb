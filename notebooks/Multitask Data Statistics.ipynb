{
 "cells": [
  {
   "cell_type": "code",
   "execution_count": 1,
   "metadata": {
    "collapsed": true
   },
   "outputs": [],
   "source": [
    "import json\n",
    "import os\n",
    "import glob\n",
    "import numpy as np"
   ]
  },
  {
   "cell_type": "code",
   "execution_count": 44,
   "metadata": {
    "collapsed": true
   },
   "outputs": [],
   "source": [
    "json_files = glob.glob(\"/Users/rabitt/Desktop/multitask_json/*.json\")"
   ]
  },
  {
   "cell_type": "code",
   "execution_count": 53,
   "metadata": {
    "collapsed": false
   },
   "outputs": [
    {
     "name": "stdout",
     "output_type": "stream",
     "text": [
      "/scratch/rmb456/multif0_ismir2017/multitask_data/BarefootSisters_RedJetta_MIX_complete_nosynth.wav\n",
      "{u'bass': None, u'multif0': None, u'guitar': None, u'vocal': None, u'melody': None, u'piano': None}\n",
      "\n",
      "/scratch/rmb456/multif0_ismir2017/multitask_data/TablaBreakbeatScience_RockSteady_MIX_complete_noguitar.wav\n",
      "{u'bass': None, u'vocal': None, u'guitar': None, u'multif0': None, u'melody': None, u'piano': None}\n",
      "\n",
      "/scratch/rmb456/multif0_ismir2017/multitask_data/TablaBreakbeatScience_RockSteady_MIX_complete_nosynth.wav\n",
      "{u'bass': None, u'multif0': None, u'guitar': None, u'vocal': None, u'melody': None, u'piano': None}\n",
      "\n",
      "/scratch/rmb456/multif0_ismir2017/multitask_data/TablaBreakbeatScience_RockSteady_MIX_complete_resynth.wav\n",
      "{u'bass': None, u'vocal': None, u'guitar': None, u'multif0': None, u'melody': None, u'piano': None}\n",
      "\n",
      "/scratch/rmb456/multif0_ismir2017/multitask_data/Tesla_ModernDayCowboy_MIX_complete_nosynth.wav\n",
      "{u'bass': None, u'multif0': None, u'guitar': None, u'vocal': None, u'melody': None, u'piano': None}\n",
      "\n",
      "/scratch/rmb456/multif0_ismir2017/multitask_data/Tesla_ModernDayCowboy_MIX_complete_noguitar.wav\n",
      "{u'bass': None, u'vocal': None, u'guitar': None, u'multif0': None, u'melody': None, u'piano': None}\n",
      "\n",
      "/scratch/rmb456/multif0_ismir2017/multitask_data/TvOnTheRadio_WolfLikeMe_MIX_complete_noguitar.wav\n",
      "{u'bass': None, u'vocal': None, u'guitar': None, u'multif0': None, u'melody': None, u'piano': None}\n",
      "\n",
      "/scratch/rmb456/multif0_ismir2017/multitask_data/TvOnTheRadio_WolfLikeMe_MIX_complete_resynth.wav\n",
      "{u'bass': None, u'vocal': None, u'guitar': None, u'multif0': None, u'melody': None, u'piano': None}\n",
      "\n",
      "/scratch/rmb456/multif0_ismir2017/multitask_data/TvOnTheRadio_WolfLikeMe_MIX_complete_nosynth.wav\n",
      "{u'bass': None, u'multif0': None, u'guitar': None, u'vocal': None, u'melody': None, u'piano': None}\n",
      "\n",
      "/scratch/rmb456/multif0_ismir2017/multitask_data/WildCherry_PlayThatFunkyMusic_MIX_complete_noguitar.wav\n",
      "{u'bass': None, u'vocal': None, u'guitar': None, u'multif0': None, u'melody': None, u'piano': None}\n",
      "\n",
      "/scratch/rmb456/multif0_ismir2017/multitask_data/WildCherry_PlayThatFunkyMusic_MIX_complete_resynth.wav\n",
      "{u'bass': None, u'vocal': None, u'guitar': None, u'multif0': None, u'melody': None, u'piano': None}\n",
      "\n",
      "/scratch/rmb456/multif0_ismir2017/multitask_data/WildCherry_PlayThatFunkyMusic_MIX_complete_nosynth.wav\n",
      "{u'bass': None, u'multif0': None, u'guitar': None, u'vocal': None, u'melody': None, u'piano': None}\n",
      "\n"
     ]
    }
   ],
   "source": [
    "n_melody = [0, 0, 0, 0]\n",
    "n_melody_empty = [0, 0, 0, 0]\n",
    "n_bass = [0, 0, 0, 0]\n",
    "n_bass_empty = [0, 0, 0, 0]\n",
    "n_vocal = [0, 0, 0, 0]\n",
    "n_vocal_empty = [0, 0, 0, 0]\n",
    "n_guitar = [0, 0, 0, 0]\n",
    "n_guitar_empty = [0, 0, 0, 0]\n",
    "n_piano = [0, 0, 0, 0]\n",
    "n_piano_empty = [0, 0, 0, 0]\n",
    "n_multif0 = [0, 0, 0, 0]\n",
    "n_multif0_empty = [0, 0, 0, 0]\n",
    "\n",
    "\n",
    "n_fullmix = 0\n",
    "n_resynthmix = 0\n",
    "n_noguitarmix = 0\n",
    "n_nosynthmix = 0\n",
    "\n",
    "for fpath in json_files:\n",
    "    with open(fpath, 'r') as fhandle:\n",
    "        dat = json.load(fhandle)\n",
    "        for key in dat.keys():\n",
    "            bname = os.path.basename(key).split('.')[0].split('_')\n",
    "            if len(bname) == 3:\n",
    "                idx = 0\n",
    "                n_fullmix += 1\n",
    "            elif len(bname) == 5:\n",
    "                if bname[4] == 'resynth':\n",
    "                    idx = 1\n",
    "                    n_resynthmix += 1\n",
    "                elif bname[4] == 'noguitar':\n",
    "                    idx = 2\n",
    "                    n_noguitarmix += 1\n",
    "                elif bname[4] == 'nosynth':\n",
    "                    idx = 3\n",
    "                    n_nosynthmix += 1\n",
    "                else:\n",
    "                    raise ValueError(\"bname[4] = {} not recognized\".format(bname[4]))\n",
    "            else:\n",
    "                raise ValueError(\"bname {} has length {}\".format(bname, len(bname)))\n",
    "            \n",
    "            for subkey in dat[key].keys():\n",
    "                if dat[key][subkey] is None:\n",
    "                    empty = True\n",
    "                else:\n",
    "                    empty = False\n",
    "\n",
    "                if subkey == 'melody':\n",
    "                    if empty:\n",
    "                        n_melody_empty[idx] += 1\n",
    "                    else:\n",
    "                        n_melody[idx] += 1\n",
    "                elif subkey == 'bass':\n",
    "                    if empty:\n",
    "                        n_bass_empty[idx] += 1\n",
    "                    else:\n",
    "                        n_bass[idx] += 1\n",
    "                elif subkey == 'vocal':\n",
    "                    if empty:\n",
    "                        n_vocal_empty[idx] += 1\n",
    "                    else:\n",
    "                        n_vocal[idx] += 1\n",
    "                elif subkey == 'guitar':\n",
    "                    if empty:\n",
    "                        n_guitar_empty[idx] += 1\n",
    "                    else:\n",
    "                        n_guitar[idx] += 1\n",
    "                        if idx == 2:\n",
    "                            print(dat[key])\n",
    "                elif subkey == 'piano':\n",
    "                    if empty:\n",
    "                        n_piano_empty[idx] += 1\n",
    "                    else:\n",
    "                        n_piano[idx] += 1\n",
    "                elif subkey == 'multif0':\n",
    "                    if empty:\n",
    "                        n_multif0_empty[idx] += 1\n",
    "                        print(key)\n",
    "                        print(dat[key])\n",
    "                        print(\"\")\n",
    "                    else:\n",
    "                        n_multif0[idx] += 1\n"
   ]
  },
  {
   "cell_type": "code",
   "execution_count": 46,
   "metadata": {
    "collapsed": false
   },
   "outputs": [],
   "source": [
    "matrix_nonempty = [\n",
    "    n_multif0,\n",
    "    n_melody,\n",
    "    n_bass,\n",
    "    n_vocal,\n",
    "    n_piano,\n",
    "    n_guitar\n",
    "]\n",
    "\n",
    "matrix_empty = [\n",
    "    n_multif0_empty,\n",
    "    n_melody_empty,\n",
    "    n_bass_empty,\n",
    "    n_vocal_empty,\n",
    "    n_piano_empty,\n",
    "    n_guitar_empty\n",
    "]\n",
    "\n",
    "totals = [\n",
    "    n_fullmix,\n",
    "    n_resynthmix,\n",
    "    n_noguitarmix,\n",
    "    n_nosynthmix\n",
    "]"
   ]
  },
  {
   "cell_type": "code",
   "execution_count": 47,
   "metadata": {
    "collapsed": false
   },
   "outputs": [
    {
     "data": {
      "text/plain": [
       "[[0, 224, 221, 217],\n",
       " [138, 179, 179, 179],\n",
       " [167, 169, 169, 169],\n",
       " [73, 157, 157, 157],\n",
       " [0, 45, 45, 0],\n",
       " [0, 148, 0, 0]]"
      ]
     },
     "execution_count": 47,
     "metadata": {},
     "output_type": "execute_result"
    }
   ],
   "source": [
    "matrix_nonempty"
   ]
  },
  {
   "cell_type": "code",
   "execution_count": 48,
   "metadata": {
    "collapsed": false
   },
   "outputs": [
    {
     "data": {
      "text/plain": [
       "[[0, 3, 4, 5],\n",
       " [15, 48, 46, 43],\n",
       " [77, 58, 56, 53],\n",
       " [110, 70, 68, 65],\n",
       " [229, 182, 180, 222],\n",
       " [122, 79, 225, 222]]"
      ]
     },
     "execution_count": 48,
     "metadata": {},
     "output_type": "execute_result"
    }
   ],
   "source": [
    "matrix_empty"
   ]
  },
  {
   "cell_type": "code",
   "execution_count": 49,
   "metadata": {
    "collapsed": false
   },
   "outputs": [
    {
     "data": {
      "text/plain": [
       "994"
      ]
     },
     "execution_count": 49,
     "metadata": {},
     "output_type": "execute_result"
    }
   ],
   "source": [
    "sum(totals)"
   ]
  },
  {
   "cell_type": "code",
   "execution_count": 50,
   "metadata": {
    "collapsed": false
   },
   "outputs": [
    {
     "data": {
      "text/plain": [
       "array([674, 827, 918, 857, 903, 796])"
      ]
     },
     "execution_count": 50,
     "metadata": {},
     "output_type": "execute_result"
    }
   ],
   "source": [
    "np.sum(np.array(matrix_empty) + np.array(matrix_nonempty), axis=1)"
   ]
  },
  {
   "cell_type": "code",
   "execution_count": 42,
   "metadata": {
    "collapsed": true
   },
   "outputs": [],
   "source": [
    "import medleydb as mdb"
   ]
  },
  {
   "cell_type": "code",
   "execution_count": 43,
   "metadata": {
    "collapsed": false
   },
   "outputs": [
    {
     "name": "stdout",
     "output_type": "stream",
     "text": [
      "AClassicEducation_NightOwl\n",
      "AvaLuna_Waterduct\n",
      "BigTroubles_Phantom\n",
      "Creepoid_OldTree\n",
      "EthanHein_GirlOnABridge\n",
      "FacesOnFilm_WaitingForGa\n",
      "FamilyBand_Again\n",
      "HopAlong_SisterCities\n",
      "Meaxic_TakeAStep\n",
      "Meaxic_YouListen\n",
      "MusicDelta_80sRock\n",
      "MusicDelta_Britpop\n",
      "MusicDelta_Grunge\n",
      "MusicDelta_Hendrix\n",
      "MusicDelta_Punk\n",
      "MusicDelta_Rockabilly\n",
      "MusicDelta_SpeedMetal\n",
      "MusicDelta_Zeppelin\n",
      "PurlingHiss_Lolita\n",
      "TablaBreakbeatScience_Animoog\n",
      "TheScarletBrand_LesFleursDuMal\n",
      "TheSoSoGlos_Emergency\n",
      "Cayetana_MissThing\n",
      "DeadMilkmen_PrisonersCinema\n",
      "FilthyBird_IdLikeToKnow\n",
      "FruitCathedral_KeepMeRunnin\n",
      "LittleTybee_TheAlchemist\n",
      "MidnightBlue_HuntingSeason\n",
      "MidnightBlue_StarsAreScreaming\n",
      "Plasma_GoodShout\n",
      "Sweat_Sn1572\n",
      "TheTonTons_Lush\n",
      "Torres_NewSkin\n",
      "TrevorAndTheSoundwaves_AloneAndSad\n",
      "AcDc_BackInBlack\n",
      "Aerosmith_LoveInAnElevator\n",
      "AlanisMorissette_YouOughtaKnow\n",
      "AllThatRemains_Chiron\n",
      "AnEndlessSporadic_Anything\n",
      "Anberlin_TheFeelGoodDrag\n",
      "ArcticMonkeys_Brainstorm\n",
      "BillyIdol_WhiteWedding\n",
      "BillySquier_TheStroke\n",
      "BlackSabbath_WarPigs\n",
      "Blink182_AllTheSmallThings\n",
      "Blondie_OneWayOrAnother\n",
      "BobSeger_OldTimeRockAndRoll\n",
      "BradPaisley_MudOnTheTires\n",
      "BrunoMars_Grenade\n",
      "BryanAdams_SummerOf69\n",
      "Bush_Machinehead\n",
      "CarrieUnderwood_HomeSweetHome\n",
      "CheapTrick_IWantYouToWantMe\n",
      "ChristinaAguilera_GenieInABottle\n",
      "Chumbawamba_Tubthumping\n",
      "CountZero_Shake\n",
      "CountingCrows_AccidentallyInLove\n",
      "FooFighters_AllMyLife\n",
      "KaiserChiefs_Ruby\n",
      "Kansas_CarryOnMyWaywardSon\n",
      "KingsOfLeon_SexOnFire\n",
      "Kiss_RockAndRollAllNite\n",
      "Knack_MySharona\n",
      "Korn_FreakOnALeash\n",
      "LambOfGod_Requiem\n",
      "LennyKravitz_AreYouGonnaGoMyWay\n",
      "LinkinPark_InTheEnd\n",
      "Lit_MyOwnWorstEnemy\n",
      "Live_IAlone\n",
      "LoquilloYLosTrogloditas_CadillacSolitario\n",
      "MartinaMcbride_ThisOnesForTheGirls\n",
      "McFrontalot_LivinOnTheCornerOfDudeAndCatastrophe\n",
      "MichaelJackson_BeatIt\n",
      "MightyMightyBosstones_WheredYouGo\n",
      "MileyCyrus_7Things\n",
      "MirandaCosgrove_HeadphonesOn\n",
      "Misfits_AstroZombies\n",
      "Muffs_KidsInAmerica\n",
      "Muse_Hysteria\n",
      "TaylorSwift_LoveStory\n",
      "Tesla_ModernDayCowboy\n",
      "TheAllAmericanRejects_DirtyLittleSecret\n",
      "TheBeatles_WithALittleHelpFromMyFriends\n",
      "TheBlackKeys_YourTouch\n",
      "TheBravery_Believe\n",
      "TheBronx_FalseAlarm\n",
      "TheBronx_SixDaysAWeek\n",
      "TheKillers_SomebodyToldMe\n",
      "TheLastGoodnight_PicturesOfYou\n",
      "ThinLizzy_TheBoysAreBackInTown\n",
      "ThirdEyeBlind_Jumper\n",
      "ThirdEyeBlind_NeverLetYouGo\n",
      "TvOnTheRadio_WolfLikeMe\n",
      "VampireWeekend_Holiday\n"
     ]
    }
   ],
   "source": [
    "mtracks = mdb.load_all_multitracks(dataset_version=['V1', 'V2', 'EXTRA'])\n",
    "for mtrack in mtracks:\n",
    "    if 'distorted electric guitar' in mtrack.stem_instruments:\n",
    "        print(mtrack.track_id)"
   ]
  },
  {
   "cell_type": "code",
   "execution_count": null,
   "metadata": {
    "collapsed": true
   },
   "outputs": [],
   "source": []
  }
 ],
 "metadata": {
  "kernelspec": {
   "display_name": "Python 2",
   "language": "python",
   "name": "python2"
  },
  "language_info": {
   "codemirror_mode": {
    "name": "ipython",
    "version": 2
   },
   "file_extension": ".py",
   "mimetype": "text/x-python",
   "name": "python",
   "nbconvert_exporter": "python",
   "pygments_lexer": "ipython2",
   "version": "2.7.9"
  }
 },
 "nbformat": 4,
 "nbformat_minor": 2
}
