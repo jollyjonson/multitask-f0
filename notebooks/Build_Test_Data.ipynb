{
 "cells": [
  {
   "cell_type": "markdown",
   "metadata": {},
   "source": [
    "This notebook was used to compute the numpy files for each track in the multif0 test data sets (Bach10, Su, and MDB test)."
   ]
  },
  {
   "cell_type": "code",
   "execution_count": 1,
   "metadata": {
    "collapsed": false
   },
   "outputs": [
    {
     "name": "stdout",
     "output_type": "stream",
     "text": [
      "/home/rmb456/repos/multif0/deepsalience\n"
     ]
    }
   ],
   "source": [
    "cd ../deepsalience/"
   ]
  },
  {
   "cell_type": "code",
   "execution_count": 9,
   "metadata": {
    "collapsed": true
   },
   "outputs": [],
   "source": [
    "import compute_training_data as C\n",
    "import glob\n",
    "import os\n",
    "import numpy as np"
   ]
  },
  {
   "cell_type": "code",
   "execution_count": 3,
   "metadata": {
    "collapsed": true
   },
   "outputs": [],
   "source": [
    "test_path = '/scratch/rmb456/multif0_ismir2017/test_data/'"
   ]
  },
  {
   "cell_type": "code",
   "execution_count": 5,
   "metadata": {
    "collapsed": false
   },
   "outputs": [
    {
     "name": "stdout",
     "output_type": "stream",
     "text": [
      "\u001b[0m\u001b[38;5;27mbach10\u001b[0m/  \u001b[38;5;27mmdb_test\u001b[0m/  \u001b[38;5;27mmultif0\u001b[0m/  \u001b[38;5;27msu\u001b[0m/\r\n"
     ]
    }
   ],
   "source": [
    "ls /scratch/rmb456/multif0_ismir2017/test_data/"
   ]
  },
  {
   "cell_type": "code",
   "execution_count": 14,
   "metadata": {
    "collapsed": true
   },
   "outputs": [],
   "source": [
    "def compute_test_inputs(test_path, test_set):\n",
    "    test_dir = os.path.join(test_path, test_set)\n",
    "    audio_files = glob.glob(os.path.join(test_dir, '*.wav'))\n",
    "    for f in audio_files:\n",
    "        print(f)\n",
    "        hcqt = C.compute_hcqt(f)\n",
    "        prefix = os.path.basename(f).split('.')[0]\n",
    "        save_path = os.path.join(test_dir, \"{}_input.npy\".format(prefix))\n",
    "        np.save(save_path, hcqt.astype(np.float32))\n",
    "        print(\"   > done!\")"
   ]
  },
  {
   "cell_type": "code",
   "execution_count": 15,
   "metadata": {
    "collapsed": false
   },
   "outputs": [
    {
     "name": "stdout",
     "output_type": "stream",
     "text": [
      "/scratch/rmb456/multif0_ismir2017/test_data/bach10/03-ChristederdubistTagundLicht.wav\n",
      "   > done!\n",
      "/scratch/rmb456/multif0_ismir2017/test_data/bach10/06-DieSonne.wav\n",
      "   > done!\n",
      "/scratch/rmb456/multif0_ismir2017/test_data/bach10/01-AchGottundHerr.wav\n",
      "   > done!\n",
      "/scratch/rmb456/multif0_ismir2017/test_data/bach10/10-NunBitten.wav\n",
      "   > done!\n",
      "/scratch/rmb456/multif0_ismir2017/test_data/bach10/09-Jesus.wav\n",
      "   > done!\n",
      "/scratch/rmb456/multif0_ismir2017/test_data/bach10/08-FuerDeinenThron.wav\n",
      "   > done!\n",
      "/scratch/rmb456/multif0_ismir2017/test_data/bach10/07-HerrGott.wav\n",
      "   > done!\n",
      "/scratch/rmb456/multif0_ismir2017/test_data/bach10/04-ChristeDuBeistand.wav\n",
      "   > done!\n",
      "/scratch/rmb456/multif0_ismir2017/test_data/bach10/05-DieNacht.wav\n",
      "   > done!\n",
      "/scratch/rmb456/multif0_ismir2017/test_data/bach10/02-AchLiebenChristen.wav\n",
      "   > done!\n"
     ]
    }
   ],
   "source": [
    "test_set = 'bach10'\n",
    "compute_test_inputs(test_path, test_set)"
   ]
  },
  {
   "cell_type": "code",
   "execution_count": 16,
   "metadata": {
    "collapsed": false
   },
   "outputs": [
    {
     "name": "stdout",
     "output_type": "stream",
     "text": [
      "/scratch/rmb456/multif0_ismir2017/test_data/su/PQ03_Farranc_audio.wav\n",
      "   > done!\n",
      "/scratch/rmb456/multif0_ismir2017/test_data/su/PQ02_Elgar_audio.wav\n",
      "   > done!\n",
      "/scratch/rmb456/multif0_ismir2017/test_data/su/PS02_Chopin_audio.wav\n",
      "   > done!\n",
      "/scratch/rmb456/multif0_ismir2017/test_data/su/SQ02_Janacek_audio.wav\n",
      "   > done!\n",
      "/scratch/rmb456/multif0_ismir2017/test_data/su/VS01_Schumann_audio.wav\n",
      "   > done!\n",
      "/scratch/rmb456/multif0_ismir2017/test_data/su/PS03_Mozart_audio.wav\n",
      "   > done!\n",
      "/scratch/rmb456/multif0_ismir2017/test_data/su/SQ01_Beethoven_audio.wav\n",
      "   > done!\n",
      "/scratch/rmb456/multif0_ismir2017/test_data/su/SQ03_Schubert_audio.wav\n",
      "   > done!\n",
      "/scratch/rmb456/multif0_ismir2017/test_data/su/VS04_Franck_audio.wav\n",
      "   > done!\n",
      "/scratch/rmb456/multif0_ismir2017/test_data/su/PS01_Beethoven_audio.wav\n",
      "   > done!\n"
     ]
    }
   ],
   "source": [
    "test_set = 'su'\n",
    "compute_test_inputs(test_path, test_set)"
   ]
  },
  {
   "cell_type": "code",
   "execution_count": 17,
   "metadata": {
    "collapsed": false
   },
   "outputs": [
    {
     "name": "stdout",
     "output_type": "stream",
     "text": [
      "/scratch/rmb456/multif0_ismir2017/test_data/mdb_test/MatthewEntwistle_ImpressionsOfSaturn_multif0_MIX.wav\n",
      "   > done!\n",
      "/scratch/rmb456/multif0_ismir2017/test_data/mdb_test/ChrisJacoby_PigsFoot_multif0_MIX.wav\n",
      "   > done!\n",
      "/scratch/rmb456/multif0_ismir2017/test_data/mdb_test/MusicDelta_Pachelbel_multif0_MIX.wav\n",
      "   > done!\n",
      "/scratch/rmb456/multif0_ismir2017/test_data/mdb_test/MatthewEntwistle_FairerHopes_multif0_MIX.wav\n",
      "   > done!\n",
      "/scratch/rmb456/multif0_ismir2017/test_data/mdb_test/Phoenix_ScotchMorris_multif0_MIX.wav\n",
      "   > done!\n",
      "/scratch/rmb456/multif0_ismir2017/test_data/mdb_test/AClassicEducation_NightOwl_multif0_MIX.wav\n",
      "   > done!\n",
      "/scratch/rmb456/multif0_ismir2017/test_data/mdb_test/MusicDelta_SwingJazz_multif0_MIX.wav\n",
      "   > done!\n",
      "/scratch/rmb456/multif0_ismir2017/test_data/mdb_test/ChrisJacoby_BoothShotLincoln_multif0_MIX.wav\n",
      "   > done!\n",
      "/scratch/rmb456/multif0_ismir2017/test_data/mdb_test/MatthewEntwistle_DontYouEver_multif0_MIX.wav\n",
      "   > done!\n",
      "/scratch/rmb456/multif0_ismir2017/test_data/mdb_test/Mozart_DiesBildnis_multif0_MIX.wav\n",
      "   > done!\n",
      "/scratch/rmb456/multif0_ismir2017/test_data/mdb_test/Phoenix_ElzicsFarewell_multif0_MIX.wav\n",
      "   > done!\n",
      "/scratch/rmb456/multif0_ismir2017/test_data/mdb_test/StrandOfOaks_Spacestation_multif0_MIX.wav\n",
      "   > done!\n",
      "/scratch/rmb456/multif0_ismir2017/test_data/mdb_test/Debussy_LenfantProdigue_multif0_MIX.wav\n",
      "   > done!\n",
      "/scratch/rmb456/multif0_ismir2017/test_data/mdb_test/MusicDelta_Gospel_multif0_MIX.wav\n",
      "   > done!\n",
      "/scratch/rmb456/multif0_ismir2017/test_data/mdb_test/Grants_PunchDrunk_multif0_MIX.wav\n",
      "   > done!\n",
      "/scratch/rmb456/multif0_ismir2017/test_data/mdb_test/Auctioneer_OurFutureFaces_multif0_MIX.wav\n",
      "   > done!\n",
      "/scratch/rmb456/multif0_ismir2017/test_data/mdb_test/MatthewEntwistle_TheArch_multif0_MIX.wav\n",
      "   > done!\n",
      "/scratch/rmb456/multif0_ismir2017/test_data/mdb_test/Phoenix_ColliersDaughter_multif0_MIX.wav\n",
      "   > done!\n",
      "/scratch/rmb456/multif0_ismir2017/test_data/mdb_test/MatthewEntwistle_Lontano_multif0_MIX.wav\n",
      "   > done!\n",
      "/scratch/rmb456/multif0_ismir2017/test_data/mdb_test/Schubert_Erstarrung_multif0_MIX.wav\n",
      "   > done!\n",
      "/scratch/rmb456/multif0_ismir2017/test_data/mdb_test/Creepoid_OldTree_multif0_MIX.wav\n",
      "   > done!\n",
      "/scratch/rmb456/multif0_ismir2017/test_data/mdb_test/Phoenix_SeanCaughlinsTheScartaglen_multif0_MIX.wav\n",
      "   > done!\n",
      "/scratch/rmb456/multif0_ismir2017/test_data/mdb_test/MusicDelta_FusionJazz_multif0_MIX.wav\n",
      "   > done!\n",
      "/scratch/rmb456/multif0_ismir2017/test_data/mdb_test/PortStWillow_StayEven_multif0_MIX.wav\n",
      "   > done!\n",
      "/scratch/rmb456/multif0_ismir2017/test_data/mdb_test/Phoenix_LarkOnTheStrandDrummondCastle_multif0_MIX.wav\n",
      "   > done!\n",
      "/scratch/rmb456/multif0_ismir2017/test_data/mdb_test/MatthewEntwistle_TheFlaxenField_multif0_MIX.wav\n",
      "   > done!\n",
      "/scratch/rmb456/multif0_ismir2017/test_data/mdb_test/CelestialShore_DieForUs_multif0_MIX.wav\n",
      "   > done!\n",
      "/scratch/rmb456/multif0_ismir2017/test_data/mdb_test/Phoenix_BrokenPledgeChicagoReel_multif0_MIX.wav\n",
      "   > done!\n"
     ]
    }
   ],
   "source": [
    "test_set = 'mdb_test'\n",
    "compute_test_inputs(test_path, test_set)"
   ]
  },
  {
   "cell_type": "code",
   "execution_count": null,
   "metadata": {
    "collapsed": true
   },
   "outputs": [],
   "source": []
  }
 ],
 "metadata": {
  "kernelspec": {
   "display_name": "Python 2",
   "language": "python",
   "name": "python2"
  },
  "language_info": {
   "codemirror_mode": {
    "name": "ipython",
    "version": 2
   },
   "file_extension": ".py",
   "mimetype": "text/x-python",
   "name": "python",
   "nbconvert_exporter": "python",
   "pygments_lexer": "ipython2",
   "version": "2.7.13"
  }
 },
 "nbformat": 4,
 "nbformat_minor": 2
}
