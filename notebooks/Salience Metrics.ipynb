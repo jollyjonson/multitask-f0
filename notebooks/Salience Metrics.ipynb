{
 "cells": [
  {
   "cell_type": "markdown",
   "metadata": {},
   "source": [
    "**This was not used**\n",
    "\n",
    "Initial unused implementation of different salience representation metrics"
   ]
  },
  {
   "cell_type": "code",
   "execution_count": 42,
   "metadata": {
    "collapsed": true
   },
   "outputs": [],
   "source": [
    "import numpy as np\n",
    "import scipy\n",
    "from scipy import signal\n",
    "import matplotlib.pyplot as plt\n",
    "%matplotlib inline"
   ]
  },
  {
   "cell_type": "code",
   "execution_count": 43,
   "metadata": {
    "collapsed": true
   },
   "outputs": [],
   "source": [
    "def targets_to_binary(target_matrix):\n",
    "    binary_matrix = np.zeros(target_matrix.shape)\n",
    "    binary_matrix[target_matrix == 1.0] = 1.0\n",
    "    return binary_matrix"
   ]
  },
  {
   "cell_type": "code",
   "execution_count": 44,
   "metadata": {
    "collapsed": true
   },
   "outputs": [],
   "source": [
    "def peak_mask(prediction_matrix, binary=False):\n",
    "    peaks = scipy.signal.argrelmax(prediction_matrix, axis=0)\n",
    "    mask = np.zeros(prediction_matrix.shape)\n",
    "    if binary:\n",
    "        mask[peaks] = 1\n",
    "    else:\n",
    "        mask[peaks] = prediction_matrix[peaks]\n",
    "    return mask"
   ]
  },
  {
   "cell_type": "code",
   "execution_count": 45,
   "metadata": {
    "collapsed": true
   },
   "outputs": [],
   "source": [
    "def mask_prediction(prediction_matrix, binary_matrix):\n",
    "    return prediction_matrix * binary_matrix"
   ]
  },
  {
   "cell_type": "code",
   "execution_count": 46,
   "metadata": {
    "collapsed": true
   },
   "outputs": [],
   "source": [
    "def energy_recall(prediction_matrix, target_matrix):\n",
    "    binary_matrix = targets_to_binary(target_matrix)\n",
    "    mask = mask_prediction(prediction_matrix, binary_matrix)\n",
    "    return np.sum(mask.flatten()) / np.sum(binary_matrix.flatten())"
   ]
  },
  {
   "cell_type": "code",
   "execution_count": 54,
   "metadata": {
    "collapsed": true
   },
   "outputs": [],
   "source": [
    "def energy_false_alarm(prediction_matrix, target_matrix):\n",
    "    binary_matrix = 1 - targets_to_binary(target_matrix)\n",
    "    mask = mask_prediction(prediction_matrix, binary_matrix)\n",
    "    return np.sum(mask.flatten()) / np.sum((binary_matrix).flatten())"
   ]
  },
  {
   "cell_type": "code",
   "execution_count": 47,
   "metadata": {
    "collapsed": true
   },
   "outputs": [],
   "source": [
    "def mean_amplitude_error(prediction_matrix, target_matrix):\n",
    "    binary_matrix = targets_to_binary(target_matrix)\n",
    "    mask = mask_prediction(prediction_matrix, binary_matrix)\n",
    "    n_positive = np.sum(binary_matrix.flatten())\n",
    "    return np.sum(binary_matrix.flatten() - mask.flatten())/float(n_positive)"
   ]
  },
  {
   "cell_type": "code",
   "execution_count": 48,
   "metadata": {
    "collapsed": false
   },
   "outputs": [],
   "source": [
    "def peak_recall(prediction_matrix, target_matrix):\n",
    "    binary_matrix = targets_to_binary(target_matrix)\n",
    "    prediction_peak_mask = peak_mask(prediction_matrix, binary=True)\n",
    "    mask = mask_prediction(prediction_peak_mask, binary_matrix)\n",
    "    return np.sum(mask.flatten()) / np.sum(binary_matrix.flatten())"
   ]
  },
  {
   "cell_type": "code",
   "execution_count": 49,
   "metadata": {
    "collapsed": true
   },
   "outputs": [],
   "source": [
    "def mean_frequency_error(prediction_matrix, target_matrix):\n",
    "    binary_matrix = targets_to_binary(target_matrix)\n",
    "    n_positive = np.sum(binary_matrix.flatten())\n",
    "    prediction_peak_mask = peak_mask(prediction_matrix, binary=True)\n",
    "    mask = mask_prediction(prediction_peak_mask, target_matrix)\n",
    "    return np.sum(mask.flatten()) / float(n_positive)"
   ]
  },
  {
   "cell_type": "code",
   "execution_count": 7,
   "metadata": {
    "collapsed": true
   },
   "outputs": [],
   "source": [
    "y_pred = np.load('/home/rmb456/repos/multif0/pred_output_example.npy')\n",
    "y_true = np.load('/home/rmb456/repos/multif0/true_output_example.npy')"
   ]
  },
  {
   "cell_type": "code",
   "execution_count": 55,
   "metadata": {
    "collapsed": false
   },
   "outputs": [
    {
     "name": "stdout",
     "output_type": "stream",
     "text": [
      "[0.54205378571374241, 0.027007082340801271, 0.45794621428625759, 0.54628793666226816, 0.72496628821396703]\n"
     ]
    }
   ],
   "source": [
    "e_recall = energy_recall(y_pred, y_true) #average energy of ground truth positives\n",
    "e_fa = energy_false_alarm(y_pred, y_true) #average energy of ground truth negatives\n",
    "mae = mean_amplitude_error(y_pred, y_true)\n",
    "pr = peak_recall(y_pred, y_true)\n",
    "mfe = mean_frequency_error(y_pred, y_true)\n",
    "print([e_recall, e_fa, mae, pr, mfe])"
   ]
  },
  {
   "cell_type": "code",
   "execution_count": 40,
   "metadata": {
    "collapsed": false
   },
   "outputs": [
    {
     "data": {
      "text/plain": [
       "<matplotlib.colorbar.Colorbar at 0x2b0d6301d810>"
      ]
     },
     "execution_count": 40,
     "metadata": {},
     "output_type": "execute_result"
    },
    {
     "data": {
      "image/png": "[encoded data removed]",
      "text/plain": [
       "<matplotlib.figure.Figure at 0x2b0d50486b90>"
      ]
     },
     "metadata": {},
     "output_type": "display_data"
    }
   ],
   "source": [
    "plt.figure(figsize=(15, 7))\n",
    "plt.imshow(mask, origin='lower')\n",
    "plt.axis('auto')\n",
    "plt.colorbar()"
   ]
  },
  {
   "cell_type": "code",
   "execution_count": null,
   "metadata": {
    "collapsed": true
   },
   "outputs": [],
   "source": []
  }
 ],
 "metadata": {
  "kernelspec": {
   "display_name": "Python 2",
   "language": "python",
   "name": "python2"
  },
  "language_info": {
   "codemirror_mode": {
    "name": "ipython",
    "version": 2
   },
   "file_extension": ".py",
   "mimetype": "text/x-python",
   "name": "python",
   "nbconvert_exporter": "python",
   "pygments_lexer": "ipython2",
   "version": "2.7.13"
  }
 },
 "nbformat": 4,
 "nbformat_minor": 2
}
