{
 "cells": [
  {
   "cell_type": "markdown",
   "metadata": {},
   "source": [
    "Get multif0 metrics for Benetos and Duan's algorithms on the Bach10, Su, and MedleyDB test sets and save results to csv files.\n",
    "\n",
    "At the end there's a sanity-check plot of a reference vs. estimate multif0."
   ]
  },
  {
   "cell_type": "code",
   "execution_count": 1,
   "metadata": {
    "collapsed": false
   },
   "outputs": [],
   "source": [
    "import glob\n",
    "import os\n",
    "import mir_eval\n",
    "import pandas"
   ]
  },
  {
   "cell_type": "markdown",
   "metadata": {},
   "source": [
    "## evaluate"
   ]
  },
  {
   "cell_type": "code",
   "execution_count": 2,
   "metadata": {
    "collapsed": true
   },
   "outputs": [],
   "source": [
    "def get_mf0_scores(est_path, ref_path, test_set_name, algorithm_name):\n",
    "\n",
    "    all_scores = []\n",
    "    est_files = glob.glob(os.path.join(est_path, '*.txt'))\n",
    "\n",
    "    for est_file in est_files:\n",
    "        file_key = \"_\".join(os.path.basename(est_file).replace('-', '_').split('_')[:2])\n",
    "        file_key = file_key.split('.')[0]\n",
    "        print(file_key)\n",
    "        file_glob = glob.glob(os.path.join(ref_path, '{}*.txt'.format(file_key)))\n",
    "        if len(file_glob) > 1:\n",
    "            print(file_glob)\n",
    "        ref_file = file_glob[0]\n",
    "\n",
    "        # load ground truth labels\n",
    "        ref_times, ref_freqs = \\\n",
    "            mir_eval.io.load_ragged_time_series(ref_file)\n",
    "\n",
    "        # load est labels\n",
    "        est_times, est_freqs = \\\n",
    "            mir_eval.io.load_ragged_time_series(est_file)\n",
    "\n",
    "        # get multif0 metrics and append\n",
    "        scores = mir_eval.multipitch.evaluate(\n",
    "            ref_times, ref_freqs, est_times, est_freqs)\n",
    "        scores['track'] = file_key\n",
    "        all_scores.append(scores)\n",
    "\n",
    "    # save scores to data frame\n",
    "    save_path = '../outputs'\n",
    "    scores_path = os.path.join(\n",
    "        save_path, '{}_{}_all_scores.csv'.format(test_set_name, algorithm_name)\n",
    "    )\n",
    "    score_summary_path = os.path.join(\n",
    "        save_path, \"{}_{}_score_summary.csv\".format(test_set_name, algorithm_name)\n",
    "    )\n",
    "    df = pandas.DataFrame(all_scores)\n",
    "    df.to_csv(scores_path)\n",
    "    df.describe().to_csv(score_summary_path)\n",
    "    print(df.describe())"
   ]
  },
  {
   "cell_type": "code",
   "execution_count": 4,
   "metadata": {
    "collapsed": false
   },
   "outputs": [
    {
     "name": "stdout",
     "output_type": "stream",
     "text": [
      "07_HerrGott\n"
     ]
    },
    {
     "name": "stderr",
     "output_type": "stream",
     "text": [
      "/home/rmb456/anaconda2/lib/python2.7/site-packages/mir_eval/multipitch.py:410: UserWarning: Estimate times not equal to reference times. Resampling to common time base.\n",
      "  warnings.warn(\"Estimate times not equal to reference times. \"\n"
     ]
    },
    {
     "name": "stdout",
     "output_type": "stream",
     "text": [
      "04_ChristeDuBeistand\n",
      "03_ChristederdubistTagundLicht\n",
      "05_DieNacht\n",
      "01_AchGottundHerr\n",
      "06_DieSonne\n",
      "02_AchLiebenChristen\n",
      "09_Jesus\n",
      "08_FuerDeinenThron\n",
      "10_NunBitten\n",
      "       Precision     Recall   Accuracy  Substitution Error  Miss Error  \\\n",
      "count  10.000000  10.000000  10.000000           10.000000   10.000000   \n",
      "mean    0.839325   0.887114   0.758471            0.052563    0.060323   \n",
      "std     0.023613   0.016756   0.026418            0.012215    0.009504   \n",
      "min     0.802589   0.853465   0.715272            0.036153    0.044226   \n",
      "25%     0.821508   0.876586   0.735452            0.044067    0.054366   \n",
      "50%     0.844205   0.888768   0.766557            0.051990    0.059772   \n",
      "75%     0.846870   0.897946   0.777906            0.055583    0.068767   \n",
      "max     0.873946   0.907755   0.794735            0.077433    0.071605   \n",
      "\n",
      "       False Alarm Error  Total Error  Chroma Precision  Chroma Recall  \\\n",
      "count          10.000000    10.000000         10.000000      10.000000   \n",
      "mean            0.117816     0.230702          0.859903       0.908830   \n",
      "std             0.023124     0.027544          0.021970       0.010555   \n",
      "min             0.078715     0.191156          0.825827       0.892730   \n",
      "25%             0.109668     0.215445          0.854794       0.899260   \n",
      "50%             0.117837     0.220928          0.857291       0.913111   \n",
      "75%             0.126267     0.256481          0.868153       0.915580   \n",
      "max             0.152904     0.272918          0.894222       0.922010   \n",
      "\n",
      "       Chroma Accuracy  Chroma Substitution Error  Chroma Miss Error  \\\n",
      "count        10.000000                  10.000000          10.000000   \n",
      "mean          0.791601                   0.030847           0.060323   \n",
      "std           0.020858                   0.005942           0.009504   \n",
      "min           0.759758                   0.021146           0.044226   \n",
      "25%           0.775937                   0.027974           0.054366   \n",
      "50%           0.794796                   0.032006           0.059772   \n",
      "75%           0.804047                   0.034375           0.068767   \n",
      "max           0.823720                   0.040198           0.071605   \n",
      "\n",
      "       Chroma False Alarm Error  Chroma Total Error  \n",
      "count                 10.000000           10.000000  \n",
      "mean                   0.117816            0.208986  \n",
      "std                    0.023124            0.024551  \n",
      "min                    0.078715            0.173205  \n",
      "25%                    0.109668            0.195742  \n",
      "50%                    0.117837            0.206286  \n",
      "75%                    0.126267            0.222696  \n",
      "max                    0.152904            0.250551  \n"
     ]
    }
   ],
   "source": [
    "get_mf0_scores(\n",
    "    '../comparisons/multif0/algorithm_outputs/bach10/benetos/',\n",
    "    '../comparisons/multif0/datasets/bach10/gt_F0',\n",
    "    'bach10', 'benetos'\n",
    ")"
   ]
  },
  {
   "cell_type": "code",
   "execution_count": 5,
   "metadata": {
    "collapsed": false,
    "scrolled": true
   },
   "outputs": [
    {
     "name": "stdout",
     "output_type": "stream",
     "text": [
      "01_AchGottundHerr\n",
      "06_DieSonne\n",
      "03_ChristederdubistTagundLicht\n",
      "02_AchLiebenChristen\n",
      "04_ChristeDuBeistand\n",
      "08_FuerDeinenThron\n",
      "10_NunBitten\n",
      "09_Jesus\n",
      "05_DieNacht\n",
      "07_HerrGott\n",
      "       Precision     Recall   Accuracy  Substitution Error  Miss Error  \\\n",
      "count  10.000000  10.000000  10.000000           10.000000   10.000000   \n",
      "mean    0.903645   0.734931   0.681651            0.068567    0.196502   \n",
      "std     0.011399   0.026293   0.026199            0.011152    0.025209   \n",
      "min     0.880546   0.678247   0.621099            0.050990    0.143574   \n",
      "25%     0.898188   0.724119   0.670716            0.060529    0.186132   \n",
      "50%     0.904623   0.738245   0.688671            0.070464    0.201989   \n",
      "75%     0.909998   0.748831   0.693292            0.075745    0.205246   \n",
      "max     0.920922   0.777712   0.716950            0.086520    0.235233   \n",
      "\n",
      "       False Alarm Error  Total Error  Chroma Precision  Chroma Recall  \\\n",
      "count          10.000000    10.000000         10.000000      10.000000   \n",
      "mean            0.009735     0.274804          0.949301       0.772025   \n",
      "std             0.003746     0.025501          0.006952       0.025588   \n",
      "min             0.005490     0.228324          0.934546       0.728891   \n",
      "25%             0.007133     0.262221          0.946745       0.763485   \n",
      "50%             0.008976     0.274102          0.949623       0.768583   \n",
      "75%             0.011098     0.285856          0.953390       0.779148   \n",
      "max             0.016218     0.327243          0.959590       0.827610   \n",
      "\n",
      "       Chroma Accuracy  Chroma Substitution Error  Chroma Miss Error  \\\n",
      "count        10.000000                  10.000000          10.000000   \n",
      "mean          0.741509                   0.031473           0.196502   \n",
      "std           0.025603                   0.005873           0.025209   \n",
      "min           0.699936                   0.025991           0.143574   \n",
      "25%           0.731218                   0.027040           0.186132   \n",
      "50%           0.739370                   0.029740           0.201989   \n",
      "75%           0.747793                   0.034796           0.205246   \n",
      "max           0.799737                   0.044616           0.235233   \n",
      "\n",
      "       Chroma False Alarm Error  Chroma Total Error  \n",
      "count                 10.000000           10.000000  \n",
      "mean                   0.009735            0.237710  \n",
      "std                    0.003746            0.025677  \n",
      "min                    0.005490            0.178426  \n",
      "25%                    0.007133            0.228896  \n",
      "50%                    0.008976            0.242448  \n",
      "75%                    0.011098            0.246160  \n",
      "max                    0.016218            0.276600  \n"
     ]
    }
   ],
   "source": [
    "get_mf0_scores(\n",
    "    '../comparisons/multif0/algorithm_outputs/bach10/duan/',\n",
    "    '../comparisons/multif0/datasets/bach10/gt_F0',\n",
    "    'bach10', 'duan'\n",
    ")"
   ]
  },
  {
   "cell_type": "code",
   "execution_count": 6,
   "metadata": {
    "collapsed": false,
    "scrolled": true
   },
   "outputs": [
    {
     "name": "stdout",
     "output_type": "stream",
     "text": [
      "VS04_Franck\n",
      "PS01_Beethoven\n",
      "SQ02_Janacek\n",
      "PQ02_Elgar\n",
      "PS03_Mozart\n",
      "SQ03_Schubert\n",
      "SQ01_Beethoven\n",
      "PS02_Chopin\n",
      "PQ03_Farranc\n",
      "VS01_Schumann\n",
      "       Precision     Recall   Accuracy  Substitution Error  Miss Error  \\\n",
      "count  10.000000  10.000000  10.000000           10.000000   10.000000   \n",
      "mean    0.613793   0.480070   0.355545            0.183394    0.336536   \n",
      "std     0.125494   0.106028   0.051333            0.063667    0.145235   \n",
      "min     0.445174   0.326561   0.269857            0.081385    0.110613   \n",
      "25%     0.518279   0.397332   0.322989            0.138808    0.254880   \n",
      "50%     0.589266   0.478306   0.364032            0.193552    0.325793   \n",
      "75%     0.719192   0.553348   0.387843            0.234255    0.432393   \n",
      "max     0.824622   0.663226   0.434696            0.258056    0.561971   \n",
      "\n",
      "       False Alarm Error  Total Error  Chroma Precision  Chroma Recall  \\\n",
      "count          10.000000    10.000000         10.000000      10.000000   \n",
      "mean            0.164506     0.684436          0.698481       0.547207   \n",
      "std             0.161800     0.098019          0.125392       0.111003   \n",
      "min             0.001187     0.548368          0.524831       0.367116   \n",
      "25%             0.028878     0.613870          0.596809       0.468671   \n",
      "50%             0.119252     0.673292          0.676194       0.564543   \n",
      "75%             0.245541     0.729432          0.815946       0.611049   \n",
      "max             0.502131     0.842098          0.877450       0.730312   \n",
      "\n",
      "       Chroma Accuracy  Chroma Substitution Error  Chroma Miss Error  \\\n",
      "count        10.000000                  10.000000          10.000000   \n",
      "mean          0.426031                   0.116257           0.336536   \n",
      "std           0.051726                   0.045244           0.145235   \n",
      "min           0.338664                   0.056513           0.110613   \n",
      "25%           0.394682                   0.075190           0.254880   \n",
      "50%           0.430315                   0.122684           0.325793   \n",
      "75%           0.447614                   0.154295           0.432393   \n",
      "max           0.533492                   0.178065           0.561971   \n",
      "\n",
      "       Chroma False Alarm Error  Chroma Total Error  \n",
      "count                 10.000000           10.000000  \n",
      "mean                   0.164506            0.617299  \n",
      "std                    0.161800            0.089586  \n",
      "min                    0.001187            0.470137  \n",
      "25%                    0.028878            0.559526  \n",
      "50%                    0.119252            0.605696  \n",
      "75%                    0.245541            0.675127  \n",
      "max                    0.502131            0.771820  \n"
     ]
    }
   ],
   "source": [
    "get_mf0_scores(\n",
    "    '../comparisons/multif0/algorithm_outputs/su/benetos/',\n",
    "    '../comparisons/multif0/datasets/su/gt_F0/',\n",
    "    'su', 'benetos'\n",
    ")"
   ]
  },
  {
   "cell_type": "code",
   "execution_count": 7,
   "metadata": {
    "collapsed": false,
    "scrolled": true
   },
   "outputs": [
    {
     "name": "stdout",
     "output_type": "stream",
     "text": [
      "VS01_Schumann\n",
      "PS01_Beethoven\n",
      "VS04_Franck\n",
      "SQ03_Schubert\n",
      "PS02_Chopin\n",
      "SQ02_Janacek\n",
      "PQ02_Elgar\n",
      "SQ01_Beethoven\n",
      "PQ03_Farranc\n",
      "PS03_Mozart\n",
      "       Precision     Recall   Accuracy  Substitution Error  Miss Error  \\\n",
      "count  10.000000  10.000000  10.000000           10.000000   10.000000   \n",
      "mean    0.609060   0.418813   0.317448            0.198624    0.382563   \n",
      "std     0.140752   0.115078   0.064461            0.086483    0.175184   \n",
      "min     0.438974   0.273319   0.222871            0.061859    0.179311   \n",
      "25%     0.509016   0.350423   0.264217            0.136535    0.200141   \n",
      "50%     0.575578   0.384937   0.315047            0.230784    0.432992   \n",
      "75%     0.723777   0.500305   0.366185            0.252424    0.499918   \n",
      "max     0.829456   0.606169   0.409627            0.300685    0.664822   \n",
      "\n",
      "       False Alarm Error  Total Error  Chroma Precision  Chroma Recall  \\\n",
      "count          10.000000    10.000000         10.000000      10.000000   \n",
      "mean            0.114668     0.695855          0.712073       0.491390   \n",
      "std             0.129633     0.099710          0.134304       0.124951   \n",
      "min             0.000000     0.563684          0.518618       0.311599   \n",
      "25%             0.010715     0.608904          0.612077       0.410659   \n",
      "50%             0.069788     0.697435          0.676623       0.453401   \n",
      "75%             0.179750     0.746201          0.827381       0.600496   \n",
      "max             0.341798     0.843772          0.895127       0.670821   \n",
      "\n",
      "       Chroma Accuracy  Chroma Substitution Error  Chroma Miss Error  \\\n",
      "count        10.000000                  10.000000          10.000000   \n",
      "mean          0.392864                   0.126047           0.382563   \n",
      "std           0.065696                   0.062490           0.175184   \n",
      "min           0.299795                   0.023579           0.179311   \n",
      "25%           0.363409                   0.084084           0.200141   \n",
      "50%           0.380057                   0.137146           0.432992   \n",
      "75%           0.439508                   0.168296           0.499918   \n",
      "max           0.500000                   0.209782           0.664822   \n",
      "\n",
      "       Chroma False Alarm Error  Chroma Total Error  \n",
      "count                 10.000000           10.000000  \n",
      "mean                   0.114668            0.623278  \n",
      "std                    0.129633            0.093104  \n",
      "min                    0.000000            0.480296  \n",
      "25%                    0.010715            0.572522  \n",
      "50%                    0.069788            0.632951  \n",
      "75%                    0.179750            0.695892  \n",
      "max                    0.341798            0.749832  \n"
     ]
    }
   ],
   "source": [
    "get_mf0_scores(\n",
    "    '../comparisons/multif0/algorithm_outputs/su/duan/',\n",
    "    '../comparisons/multif0/datasets/su/gt_F0/',\n",
    "    'su', 'duan'\n",
    ")"
   ]
  },
  {
   "cell_type": "code",
   "execution_count": 8,
   "metadata": {
    "collapsed": false,
    "scrolled": true
   },
   "outputs": [
    {
     "name": "stdout",
     "output_type": "stream",
     "text": [
      "MusicDelta_SwingJazz\n",
      "AClassicEducation_NightOwl\n",
      "MatthewEntwistle_DontYouEver\n",
      "Phoenix_ColliersDaughter\n",
      "CelestialShore_DieForUs\n",
      "MatthewEntwistle_TheFlaxenField\n",
      "MatthewEntwistle_FairerHopes\n",
      "MusicDelta_Gospel\n",
      "Phoenix_LarkOnTheStrandDrummondCastle\n",
      "Grants_PunchDrunk\n",
      "Phoenix_BrokenPledgeChicagoReel\n",
      "MusicDelta_Pachelbel\n",
      "MatthewEntwistle_Lontano\n",
      "Mozart_DiesBildnis\n",
      "MusicDelta_FusionJazz\n",
      "StrandOfOaks_Spacestation\n",
      "MatthewEntwistle_TheArch\n",
      "ChrisJacoby_PigsFoot\n",
      "Phoenix_ElzicsFarewell\n",
      "Creepoid_OldTree\n",
      "ChrisJacoby_BoothShotLincoln\n",
      "Phoenix_ScotchMorris\n",
      "Debussy_LenfantProdigue\n",
      "Phoenix_SeanCaughlinsTheScartaglen\n",
      "MatthewEntwistle_ImpressionsOfSaturn\n",
      "PortStWillow_StayEven\n",
      "Auctioneer_OurFutureFaces\n",
      "Schubert_Erstarrung\n",
      "       Precision     Recall   Accuracy  Substitution Error  Miss Error  \\\n",
      "count  28.000000  28.000000  28.000000           28.000000   28.000000   \n",
      "mean    0.458944   0.495029   0.297041            0.236829    0.268143   \n",
      "std     0.156693   0.180063   0.114145            0.123035    0.205327   \n",
      "min     0.140068   0.122267   0.114514            0.039791    0.014535   \n",
      "25%     0.346308   0.389915   0.211810            0.155304    0.128984   \n",
      "50%     0.453341   0.492961   0.313663            0.200224    0.222789   \n",
      "75%     0.585601   0.628085   0.355833            0.309112    0.365064   \n",
      "max     0.718565   0.838000   0.501325            0.542999    0.814629   \n",
      "\n",
      "       False Alarm Error  Total Error  Chroma Precision  Chroma Recall  \\\n",
      "count          28.000000    28.000000         28.000000      28.000000   \n",
      "mean            0.509618     1.014589          0.518779       0.562402   \n",
      "std             0.505009     0.473305          0.162582       0.190007   \n",
      "min             0.002198     0.445080          0.163393       0.142767   \n",
      "25%             0.174596     0.710778          0.428873       0.463485   \n",
      "50%             0.278075     0.879363          0.521682       0.564208   \n",
      "75%             0.817975     1.138095          0.642857       0.713041   \n",
      "max             1.824534     2.438905          0.809788       0.881841   \n",
      "\n",
      "       Chroma Accuracy  Chroma Substitution Error  Chroma Miss Error  \\\n",
      "count        28.000000                  28.000000          28.000000   \n",
      "mean          0.350569                   0.169455           0.268143   \n",
      "std           0.128112                   0.097533           0.205327   \n",
      "min           0.136181                   0.036437           0.014535   \n",
      "25%           0.297512                   0.109309           0.128984   \n",
      "50%           0.359800                   0.132846           0.222789   \n",
      "75%           0.419790                   0.219364           0.365064   \n",
      "max           0.603369                   0.478781           0.814629   \n",
      "\n",
      "       Chroma False Alarm Error  Chroma Total Error  \n",
      "count                 28.000000           28.000000  \n",
      "mean                   0.509618            0.947216  \n",
      "std                    0.505009            0.466312  \n",
      "min                    0.002198            0.365887  \n",
      "25%                    0.174596            0.662243  \n",
      "50%                    0.278075            0.832566  \n",
      "75%                    0.817975            1.021717  \n",
      "max                    1.824534            2.374686  \n"
     ]
    }
   ],
   "source": [
    "get_mf0_scores(\n",
    "    '../comparisons/multif0/algorithm_outputs/mdb_test/benetos/',\n",
    "    '../comparisons/multif0/datasets/mdb_test/gt_F0/',\n",
    "    'mdb_test', 'benetos'\n",
    ")"
   ]
  },
  {
   "cell_type": "code",
   "execution_count": 9,
   "metadata": {
    "collapsed": false,
    "scrolled": true
   },
   "outputs": [
    {
     "name": "stdout",
     "output_type": "stream",
     "text": [
      "AClassicEducation_NightOwl\n",
      "StrandOfOaks_Spacestation\n",
      "Schubert_Erstarrung\n",
      "MusicDelta_SwingJazz\n",
      "MusicDelta_Gospel\n",
      "MatthewEntwistle_FairerHopes\n",
      "Phoenix_ScotchMorris\n",
      "MusicDelta_FusionJazz\n",
      "Creepoid_OldTree\n",
      "Phoenix_SeanCaughlinsTheScartaglen\n",
      "MatthewEntwistle_ImpressionsOfSaturn\n",
      "MatthewEntwistle_Lontano\n",
      "PortStWillow_StayEven\n",
      "CelestialShore_DieForUs\n",
      "ChrisJacoby_PigsFoot\n",
      "Mozart_DiesBildnis\n",
      "Phoenix_LarkOnTheStrandDrummondCastle\n",
      "Phoenix_ColliersDaughter\n",
      "MatthewEntwistle_DontYouEver\n",
      "Phoenix_ElzicsFarewell\n",
      "MatthewEntwistle_TheArch\n",
      "Auctioneer_OurFutureFaces\n",
      "ChrisJacoby_BoothShotLincoln\n",
      "Debussy_LenfantProdigue\n",
      "MatthewEntwistle_TheFlaxenField\n",
      "Grants_PunchDrunk\n",
      "Phoenix_BrokenPledgeChicagoReel\n",
      "MusicDelta_Pachelbel\n",
      "       Precision     Recall   Accuracy  Substitution Error  Miss Error  \\\n",
      "count  28.000000  28.000000  28.000000           28.000000   28.000000   \n",
      "mean    0.310804   0.572218   0.234573            0.264967    0.162815   \n",
      "std     0.138573   0.164037   0.079084            0.104871    0.172366   \n",
      "min     0.161075   0.176461   0.141945            0.095047    0.004699   \n",
      "25%     0.237047   0.463906   0.177180            0.194605    0.022202   \n",
      "50%     0.271484   0.611599   0.216220            0.239723    0.108607   \n",
      "75%     0.332117   0.691257   0.252929            0.324554    0.250593   \n",
      "max     0.751344   0.817280   0.475007            0.526187    0.728492   \n",
      "\n",
      "       False Alarm Error  Total Error  Chroma Precision  Chroma Recall  \\\n",
      "count          28.000000    28.000000         28.000000      28.000000   \n",
      "mean            1.299157     1.726939          0.380647       0.691894   \n",
      "std             0.815406     0.721298          0.166541       0.169535   \n",
      "min             0.007972     0.454393          0.181327       0.231270   \n",
      "25%             0.737777     1.262510          0.272011       0.631550   \n",
      "50%             1.444867     1.702437          0.310687       0.724759   \n",
      "75%             1.837203     2.227645          0.428392       0.794783   \n",
      "max             3.274275     3.586879          0.856377       0.916640   \n",
      "\n",
      "       Chroma Accuracy  Chroma Substitution Error  Chroma Miss Error  \\\n",
      "count        28.000000                  28.000000          28.000000   \n",
      "mean          0.300990                   0.145291           0.162815   \n",
      "std           0.093897                   0.057814           0.172366   \n",
      "min           0.172200                   0.040238           0.004699   \n",
      "25%           0.244662                   0.108078           0.022202   \n",
      "50%           0.262706                   0.131794           0.108607   \n",
      "75%           0.350784                   0.180434           0.250593   \n",
      "max           0.579919                   0.288276           0.728492   \n",
      "\n",
      "       Chroma False Alarm Error  Chroma Total Error  \n",
      "count                 28.000000           28.000000  \n",
      "mean                   1.299157            1.607263  \n",
      "std                    0.815406            0.722200  \n",
      "min                    0.007972            0.375604  \n",
      "25%                    0.737777            1.073599  \n",
      "50%                    1.444867            1.560131  \n",
      "75%                    1.837203            2.064126  \n",
      "max                    3.274275            3.500454  \n"
     ]
    }
   ],
   "source": [
    "import numpy as np\n",
    "get_mf0_scores(\n",
    "    '../comparisons/multif0/algorithm_outputs/mdb_test/duan/',\n",
    "    '../comparisons/multif0/datasets/mdb_test/gt_F0/',\n",
    "    'mdb_test', 'duan'\n",
    ")"
   ]
  },
  {
   "cell_type": "code",
   "execution_count": 16,
   "metadata": {
    "collapsed": false
   },
   "outputs": [],
   "source": [
    "fpath1 = '../comparisons/multif0/algorithm_outputs/mdb_test/benetos/Phoenix_SeanCaughlinsTheScartaglen_multif0_MIX16.wav.txt'\n",
    "fpath2 = '../comparisons/multif0/datasets/mdb_test/gt_F0/Phoenix_SeanCaughlinsTheScartaglen.txt'\n",
    "\n",
    "est_times, est_freqs = mir_eval.io.load_ragged_time_series(fpath1)\n",
    "ref_times, ref_freqs = mir_eval.io.load_ragged_time_series(fpath2)"
   ]
  },
  {
   "cell_type": "code",
   "execution_count": 17,
   "metadata": {
    "collapsed": false
   },
   "outputs": [],
   "source": [
    "def get_tf(times, freqs):\n",
    "    t_array = []\n",
    "    f_array = []\n",
    "    for t, freqs in zip(times, freqs):\n",
    "        for f in freqs:\n",
    "            t_array.append(t)\n",
    "            f_array.append(f)\n",
    "    return t_array, f_array"
   ]
  },
  {
   "cell_type": "code",
   "execution_count": 18,
   "metadata": {
    "collapsed": false
   },
   "outputs": [
    {
     "data": {
      "image/png": "[encoded data removed]",
      "text/plain": [
       "<matplotlib.figure.Figure at 0x2ab2278cf390>"
      ]
     },
     "metadata": {},
     "output_type": "display_data"
    }
   ],
   "source": [
    "est_t, est_f = get_tf(est_times, est_freqs)\n",
    "ref_t, ref_f = get_tf(ref_times, ref_freqs)\n",
    "\n",
    "import matplotlib.pyplot as plt\n",
    "%matplotlib inline\n",
    "plt.figure(figsize=(15, 7))\n",
    "plt.plot(est_t, est_f, '.r')\n",
    "plt.plot(ref_t, ref_f, '.b')\n",
    "plt.show()"
   ]
  },
  {
   "cell_type": "code",
   "execution_count": null,
   "metadata": {
    "collapsed": true
   },
   "outputs": [],
   "source": []
  }
 ],
 "metadata": {
  "kernelspec": {
   "display_name": "Python 2",
   "language": "python",
   "name": "python2"
  },
  "language_info": {
   "codemirror_mode": {
    "name": "ipython",
    "version": 2
   },
   "file_extension": ".py",
   "mimetype": "text/x-python",
   "name": "python",
   "nbconvert_exporter": "python",
   "pygments_lexer": "ipython2",
   "version": "2.7.13"
  }
 },
 "nbformat": 4,
 "nbformat_minor": 1
}
