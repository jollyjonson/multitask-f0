{
 "cells": [
  {
   "cell_type": "code",
   "execution_count": 1,
   "metadata": {
    "collapsed": false
   },
   "outputs": [
    {
     "name": "stdout",
     "output_type": "stream",
     "text": [
      "/scratch/rmb456/multif0/deepsalience\n"
     ]
    }
   ],
   "source": [
    "cd ../deepsalience/"
   ]
  },
  {
   "cell_type": "code",
   "execution_count": 2,
   "metadata": {
    "collapsed": false
   },
   "outputs": [
    {
     "name": "stderr",
     "output_type": "stream",
     "text": [
      "Using TensorFlow backend.\n"
     ]
    },
    {
     "name": "stdout",
     "output_type": "stream",
     "text": [
      "[name: \"/cpu:0\"\n",
      "device_type: \"CPU\"\n",
      "memory_limit: 268435456\n",
      "locality {\n",
      "}\n",
      "incarnation: 991136688240236994\n",
      ", name: \"/gpu:0\"\n",
      "device_type: \"GPU\"\n",
      "memory_limit: 11332232807\n",
      "locality {\n",
      "  bus_id: 2\n",
      "}\n",
      "incarnation: 18410336833007727818\n",
      "physical_device_desc: \"device: 0, name: Tesla K80, pci bus id: 0000:85:00.0\"\n",
      "]\n"
     ]
    }
   ],
   "source": [
    "import core\n",
    "import compute_training_data as C\n",
    "import evaluate\n",
    "from multif0_exper11_batchin_pitch import model_def"
   ]
  },
  {
   "cell_type": "code",
   "execution_count": 3,
   "metadata": {
    "collapsed": true
   },
   "outputs": [],
   "source": [
    "import json\n",
    "import numpy\n",
    "import os\n",
    "import matplotlib.pyplot as plt\n",
    "%matplotlib inline"
   ]
  },
  {
   "cell_type": "code",
   "execution_count": 4,
   "metadata": {
    "collapsed": false
   },
   "outputs": [],
   "source": [
    "input_patch_size = core.patch_size()\n",
    "data_path = core.data_path_pitch()\n",
    "dat = core.Data(\n",
    "   \"../outputs/data_splits.json\", data_path, input_patch_size=input_patch_size\n",
    ")"
   ]
  },
  {
   "cell_type": "code",
   "execution_count": 5,
   "metadata": {
    "collapsed": true
   },
   "outputs": [],
   "source": [
    "model = model_def()\n",
    "pkl_path = \"../experiment_output_submission/multif0_exper11_batchin_pitch/multif0_exper11_batchin_pitch.pkl\"\n",
    "model.load_weights(pkl_path)"
   ]
  },
  {
   "cell_type": "code",
   "execution_count": 6,
   "metadata": {
    "collapsed": false
   },
   "outputs": [
    {
     "name": "stdout",
     "output_type": "stream",
     "text": [
      "Best Threshold is 0.8\n",
      "Best validation accuracy is 0.710134228022\n",
      "Validation accuracy at 0.5 is 0.693724742464\n"
     ]
    }
   ],
   "source": [
    "thresh = evaluate.get_best_thresh_singlef0(dat, model)"
   ]
  },
  {
   "cell_type": "code",
   "execution_count": null,
   "metadata": {
    "collapsed": false
   },
   "outputs": [
    {
     "name": "stdout",
     "output_type": "stream",
     "text": [
      "/scratch/rmb456/multif0/experiment_output_submission/multif0_exper11_batchin_pitch\n",
      "/scratch/rmb456/multif0_ismir2017/training_data_with_blur/pitch/inputs/AClassicEducation_NightOwl_STEM_13_input.npy\n",
      "/scratch/rmb456/multif0_ismir2017/training_data_with_blur/pitch/inputs/AClassicEducation_NightOwl_STEM_8_input.npy\n",
      "/scratch/rmb456/multif0_ismir2017/training_data_with_blur/pitch/inputs/AClassicEducation_NightOwl_STEM_4_input.npy\n",
      "/scratch/rmb456/multif0_ismir2017/training_data_with_blur/pitch/inputs/Auctioneer_OurFutureFaces_STEM_8_input.npy\n",
      "/scratch/rmb456/multif0_ismir2017/training_data_with_blur/pitch/inputs/Auctioneer_OurFutureFaces_STEM_6_input.npy\n",
      "/scratch/rmb456/multif0_ismir2017/training_data_with_blur/pitch/inputs/CelestialShore_DieForUs_STEM_1_input.npy\n",
      "/scratch/rmb456/multif0_ismir2017/training_data_with_blur/pitch/inputs/CelestialShore_DieForUs_STEM_8_input.npy\n",
      "/scratch/rmb456/multif0_ismir2017/training_data_with_blur/pitch/inputs/CelestialShore_DieForUs_STEM_2_input.npy\n",
      "/scratch/rmb456/multif0_ismir2017/training_data_with_blur/pitch/inputs/CelestialShore_DieForUs_STEM_7_input.npy\n",
      "/scratch/rmb456/multif0_ismir2017/training_data_with_blur/pitch/inputs/ChrisJacoby_BoothShotLincoln_STEM_2_input.npy\n",
      "/scratch/rmb456/multif0_ismir2017/training_data_with_blur/pitch/inputs/ChrisJacoby_PigsFoot_STEM_2_input.npy\n",
      "/scratch/rmb456/multif0_ismir2017/training_data_with_blur/pitch/inputs/Creepoid_OldTree_STEM_8_input.npy\n",
      "/scratch/rmb456/multif0_ismir2017/training_data_with_blur/pitch/inputs/Creepoid_OldTree_STEM_1_input.npy\n",
      "/scratch/rmb456/multif0_ismir2017/training_data_with_blur/pitch/inputs/Creepoid_OldTree_STEM_6_input.npy\n",
      "/scratch/rmb456/multif0_ismir2017/training_data_with_blur/pitch/inputs/Creepoid_OldTree_STEM_7_input.npy\n",
      "/scratch/rmb456/multif0_ismir2017/training_data_with_blur/pitch/inputs/Debussy_LenfantProdigue_STEM_2_input.npy\n",
      "/scratch/rmb456/multif0_ismir2017/training_data_with_blur/pitch/inputs/Debussy_LenfantProdigue_STEM_1_input.npy\n",
      "/scratch/rmb456/multif0_ismir2017/training_data_with_blur/pitch/inputs/MatthewEntwistle_DontYouEver_STEM_2_input.npy\n",
      "/scratch/rmb456/multif0_ismir2017/training_data_with_blur/pitch/inputs/MatthewEntwistle_DontYouEver_STEM_7_input.npy\n",
      "/scratch/rmb456/multif0_ismir2017/training_data_with_blur/pitch/inputs/MatthewEntwistle_FairerHopes_STEM_14_input.npy\n",
      "/scratch/rmb456/multif0_ismir2017/training_data_with_blur/pitch/inputs/MatthewEntwistle_FairerHopes_STEM_18_input.npy\n",
      "/scratch/rmb456/multif0_ismir2017/training_data_with_blur/pitch/inputs/MatthewEntwistle_FairerHopes_STEM_10_input.npy\n",
      "/scratch/rmb456/multif0_ismir2017/training_data_with_blur/pitch/inputs/MatthewEntwistle_FairerHopes_STEM_11_input.npy\n",
      "/scratch/rmb456/multif0_ismir2017/training_data_with_blur/pitch/inputs/MatthewEntwistle_FairerHopes_STEM_16_input.npy\n",
      "/scratch/rmb456/multif0_ismir2017/training_data_with_blur/pitch/inputs/MatthewEntwistle_ImpressionsOfSaturn_STEM_9_input.npy\n",
      "/scratch/rmb456/multif0_ismir2017/training_data_with_blur/pitch/inputs/MatthewEntwistle_ImpressionsOfSaturn_STEM_1_input.npy\n",
      "/scratch/rmb456/multif0_ismir2017/training_data_with_blur/pitch/inputs/MatthewEntwistle_ImpressionsOfSaturn_STEM_7_input.npy\n",
      "/scratch/rmb456/multif0_ismir2017/training_data_with_blur/pitch/inputs/MatthewEntwistle_ImpressionsOfSaturn_STEM_8_input.npy\n",
      "/scratch/rmb456/multif0_ismir2017/training_data_with_blur/pitch/inputs/MatthewEntwistle_Lontano_STEM_2_input.npy\n",
      "/scratch/rmb456/multif0_ismir2017/training_data_with_blur/pitch/inputs/MatthewEntwistle_TheArch_STEM_18_input.npy\n",
      "/scratch/rmb456/multif0_ismir2017/training_data_with_blur/pitch/inputs/MatthewEntwistle_TheArch_STEM_15_input.npy\n",
      "/scratch/rmb456/multif0_ismir2017/training_data_with_blur/pitch/inputs/MatthewEntwistle_TheArch_STEM_13_input.npy\n"
     ]
    }
   ],
   "source": [
    "reload(evaluate)\n",
    "save_path = os.path.join('/scratch/rmb456/multif0/experiment_output_submission', 'multif0_exper11_batchin_pitch')\n",
    "print(save_path)\n",
    "evaluate.score_singlef0_on_test_data(model, dat, save_path, thresh=thresh)"
   ]
  },
  {
   "cell_type": "code",
   "execution_count": null,
   "metadata": {
    "collapsed": true
   },
   "outputs": [],
   "source": []
  }
 ],
 "metadata": {
  "kernelspec": {
   "display_name": "Python 2",
   "language": "python",
   "name": "python2"
  },
  "language_info": {
   "codemirror_mode": {
    "name": "ipython",
    "version": 2
   },
   "file_extension": ".py",
   "mimetype": "text/x-python",
   "name": "python",
   "nbconvert_exporter": "python",
   "pygments_lexer": "ipython2",
   "version": "2.7.13"
  }
 },
 "nbformat": 4,
 "nbformat_minor": 2
}
